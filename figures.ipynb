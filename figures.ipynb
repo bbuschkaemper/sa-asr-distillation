{
 "cells": [
  {
   "cell_type": "code",
   "execution_count": null,
   "metadata": {},
   "outputs": [],
   "source": [
    "import matplotlib.pyplot as plt\n",
    "import tikzplotlib\n",
    "import pandas as pd\n",
    "\n",
    "print(tikzplotlib.Flavors.latex.preamble())"
   ]
  },
  {
   "cell_type": "code",
   "execution_count": null,
   "metadata": {},
   "outputs": [],
   "source": [
    "# KD regularization plot for the embedding and the segmentation\n",
    "data = pd.read_csv(\"results/regularization_embedding.csv\")\n",
    "plt.plot(data[\"kd_regularization\"], data[\"diarization_error_rate\"], marker=\"o\")\n",
    "data = pd.read_csv(\"results/regularization_segmentation.csv\")\n",
    "plt.plot(data[\"kd_regularization\"], data[\"diarization_error_rate\"], marker=\"o\")\n",
    "plt.xscale(\"log\")\n",
    "plt.xlabel(\"$\\lambda$\")\n",
    "plt.ylabel(\"DER [%]\")\n",
    "plt.grid()\n",
    "plt.tight_layout()\n",
    "plt.legend([\"Embedding\", \"Segmentation\"])\n",
    "\n",
    "tikzplotlib.save(\"figures/regularization.tex\")"
   ]
  }
 ],
 "metadata": {
  "kernelspec": {
   "display_name": "pvc",
   "language": "python",
   "name": "python3"
  },
  "language_info": {
   "codemirror_mode": {
    "name": "ipython",
    "version": 3
   },
   "file_extension": ".py",
   "mimetype": "text/x-python",
   "name": "python",
   "nbconvert_exporter": "python",
   "pygments_lexer": "ipython3",
   "version": "3.10.15"
  }
 },
 "nbformat": 4,
 "nbformat_minor": 2
}
