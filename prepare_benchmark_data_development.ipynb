{
 "cells": [
  {
   "cell_type": "code",
   "execution_count": 1,
   "metadata": {},
   "outputs": [],
   "source": [
    "import shutil\n",
    "import os\n",
    "\n",
    "\n",
    "# For DIART benchmark, we need all files in a single directory\n",
    "shutil.rmtree(\"ami\", ignore_errors=True)\n",
    "os.makedirs(\"ami/wav\")\n",
    "os.makedirs(\"ami/rttm\")\n",
    "files = open(\n",
    "    \"AMI-diarization-setup/lists/dev.meetings.txt\", encoding=\"utf-8\"\n",
    ").readlines()\n",
    "for item in files:\n",
    "    item = item.strip()\n",
    "    shutil.copyfile(\n",
    "        f\"AMI-diarization-setup/pyannote/amicorpus/{item}/audio/{item}.Mix-Headset.wav\",\n",
    "        f\"ami/wav/{item}.wav\",\n",
    "    )\n",
    "    shutil.copyfile(\n",
    "        f\"AMI-diarization-setup/only_words/rttms/dev/{item}.rttm\",\n",
    "        f\"ami/rttm/{item}.rttm\",\n",
    "    )"
   ]
  }
 ],
 "metadata": {
  "kernelspec": {
   "display_name": "pvc",
   "language": "python",
   "name": "python3"
  },
  "language_info": {
   "codemirror_mode": {
    "name": "ipython",
    "version": 3
   },
   "file_extension": ".py",
   "mimetype": "text/x-python",
   "name": "python",
   "nbconvert_exporter": "python",
   "pygments_lexer": "ipython3",
   "version": "3.10.15"
  }
 },
 "nbformat": 4,
 "nbformat_minor": 2
}
